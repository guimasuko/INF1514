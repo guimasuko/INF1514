{
 "cells": [
  {
   "attachments": {},
   "cell_type": "markdown",
   "metadata": {},
   "source": [
    "### Material 8"
   ]
  },
  {
   "cell_type": "code",
   "execution_count": 5,
   "metadata": {},
   "outputs": [],
   "source": [
    "peso = 80\n",
    "altura = 1.60"
   ]
  },
  {
   "cell_type": "code",
   "execution_count": 6,
   "metadata": {},
   "outputs": [],
   "source": [
    "imc = (peso / (altura**2))"
   ]
  },
  {
   "cell_type": "code",
   "execution_count": 8,
   "metadata": {},
   "outputs": [
    {
     "name": "stdout",
     "output_type": "stream",
     "text": [
      "31.249999999999993\n"
     ]
    }
   ],
   "source": [
    "print(imc)"
   ]
  },
  {
   "cell_type": "code",
   "execution_count": 9,
   "metadata": {},
   "outputs": [],
   "source": [
    "ls = [6, 7, 2, 8]"
   ]
  },
  {
   "cell_type": "code",
   "execution_count": 10,
   "metadata": {},
   "outputs": [
    {
     "data": {
      "text/plain": [
       "6"
      ]
     },
     "execution_count": 10,
     "metadata": {},
     "output_type": "execute_result"
    }
   ],
   "source": [
    "ls[0]"
   ]
  },
  {
   "cell_type": "code",
   "execution_count": 12,
   "metadata": {},
   "outputs": [
    {
     "name": "stdout",
     "output_type": "stream",
     "text": [
      "[6]\n"
     ]
    }
   ],
   "source": [
    "print(ls[0:1])"
   ]
  },
  {
   "cell_type": "code",
   "execution_count": 14,
   "metadata": {},
   "outputs": [],
   "source": [
    "a = 19\n",
    "b = 29"
   ]
  },
  {
   "cell_type": "code",
   "execution_count": 16,
   "metadata": {},
   "outputs": [
    {
     "name": "stdout",
     "output_type": "stream",
     "text": [
      "b é maior que a.\n"
     ]
    }
   ],
   "source": [
    "if a > b:\n",
    "    print('a é maior que b.')\n",
    "elif a == b:\n",
    "    print('a é igual a b.')\n",
    "else:\n",
    "    print('b é maior que a.')"
   ]
  },
  {
   "cell_type": "code",
   "execution_count": 17,
   "metadata": {},
   "outputs": [],
   "source": [
    "a = 30\n",
    "b = 30"
   ]
  },
  {
   "cell_type": "code",
   "execution_count": 19,
   "metadata": {},
   "outputs": [
    {
     "name": "stdout",
     "output_type": "stream",
     "text": [
      "=\n"
     ]
    }
   ],
   "source": [
    "print('A') if a > b else print('=') if a == b else print('B')"
   ]
  },
  {
   "cell_type": "code",
   "execution_count": 20,
   "metadata": {},
   "outputs": [],
   "source": [
    "x = 5"
   ]
  },
  {
   "cell_type": "code",
   "execution_count": 22,
   "metadata": {},
   "outputs": [
    {
     "name": "stdout",
     "output_type": "stream",
     "text": [
      "x é positivo.\n",
      "x é menor que 10.\n"
     ]
    }
   ],
   "source": [
    "if x > 0:\n",
    "    print('x é positivo.')\n",
    "    if x > 10:\n",
    "        print('x é maior que 10.')\n",
    "    else:\n",
    "        print('x é menor que 10.')\n",
    "else:\n",
    "    print('x é negativo ou zero.')"
   ]
  },
  {
   "cell_type": "code",
   "execution_count": 23,
   "metadata": {},
   "outputs": [],
   "source": [
    "a = 100\n",
    "b = 20\n",
    "c = 200"
   ]
  },
  {
   "cell_type": "code",
   "execution_count": 25,
   "metadata": {},
   "outputs": [
    {
     "name": "stdout",
     "output_type": "stream",
     "text": [
      "As duas condições são verdadeiras\n"
     ]
    }
   ],
   "source": [
    "if a > b and c > a:\n",
    "    print('As duas condições são verdadeiras')"
   ]
  },
  {
   "cell_type": "code",
   "execution_count": 27,
   "metadata": {},
   "outputs": [
    {
     "name": "stdout",
     "output_type": "stream",
     "text": [
      "0\n",
      "1\n",
      "2\n",
      "3\n",
      "4\n",
      "5\n",
      "6\n",
      "7\n",
      "8\n",
      "9\n"
     ]
    }
   ],
   "source": [
    "for i in range(10):\n",
    "    print(i)"
   ]
  },
  {
   "cell_type": "code",
   "execution_count": 29,
   "metadata": {},
   "outputs": [
    {
     "name": "stdout",
     "output_type": "stream",
     "text": [
      "0\n",
      "1\n",
      "3\n"
     ]
    }
   ],
   "source": [
    "for x in range(6):\n",
    "    if (x == 4):\n",
    "        break\n",
    "    if (x == 2):\n",
    "        continue\n",
    "    print(x)\n",
    "else:\n",
    "    print('Fim do for!')"
   ]
  },
  {
   "cell_type": "code",
   "execution_count": 30,
   "metadata": {},
   "outputs": [],
   "source": [
    "estados = ['Rio de Janeiro', 'São Paulo', 'Santa Catarina']"
   ]
  },
  {
   "cell_type": "code",
   "execution_count": 32,
   "metadata": {},
   "outputs": [
    {
     "name": "stdout",
     "output_type": "stream",
     "text": [
      "Rio de Janeiro 14\n",
      "São Paulo 9\n",
      "Santa Catarina 14\n"
     ]
    }
   ],
   "source": [
    "for estado in estados:\n",
    "    print(estado, len(estado))"
   ]
  },
  {
   "cell_type": "code",
   "execution_count": 34,
   "metadata": {},
   "outputs": [
    {
     "name": "stdout",
     "output_type": "stream",
     "text": [
      "R\n",
      "i\n",
      "o\n",
      " \n",
      "d\n",
      "e\n",
      " \n",
      "J\n",
      "a\n",
      "n\n",
      "e\n",
      "i\n",
      "r\n",
      "o\n"
     ]
    }
   ],
   "source": [
    "for letra in 'Rio de Janeiro':\n",
    "    print(letra)"
   ]
  },
  {
   "cell_type": "code",
   "execution_count": 36,
   "metadata": {},
   "outputs": [],
   "source": [
    "lista_estado = [[\"RJ\", 15993583, 407123], \n",
    "                [\"SP\", 41252160, 1247596],\n",
    "                [\"SC\", 6249682, 152482]]"
   ]
  },
  {
   "cell_type": "code",
   "execution_count": 38,
   "metadata": {},
   "outputs": [
    {
     "name": "stdout",
     "output_type": "stream",
     "text": [
      "RJ\n",
      "15993583\n",
      "407123\n",
      "SP\n",
      "41252160\n",
      "1247596\n",
      "SC\n",
      "6249682\n",
      "152482\n"
     ]
    }
   ],
   "source": [
    "for estado in lista_estado:\n",
    "    for dado_estado in estado:\n",
    "        print(dado_estado)"
   ]
  },
  {
   "cell_type": "code",
   "execution_count": 45,
   "metadata": {},
   "outputs": [],
   "source": [
    "x = 0"
   ]
  },
  {
   "cell_type": "code",
   "execution_count": 46,
   "metadata": {},
   "outputs": [
    {
     "name": "stdout",
     "output_type": "stream",
     "text": [
      "1\n",
      "3\n"
     ]
    }
   ],
   "source": [
    "while (x <= 6):\n",
    "    x += 1\n",
    "    if (x == 4):\n",
    "        break\n",
    "    if (x == 2):\n",
    "        continue\n",
    "    print(x)\n",
    "else:\n",
    "    print('Fim do while!')"
   ]
  },
  {
   "cell_type": "code",
   "execution_count": 48,
   "metadata": {},
   "outputs": [],
   "source": [
    "def imprimePessoa(nome, idade):\n",
    "    print(f'O nome da pessoa é {nome} e sua idade é {idade} anos.')"
   ]
  },
  {
   "cell_type": "code",
   "execution_count": 49,
   "metadata": {},
   "outputs": [
    {
     "name": "stdout",
     "output_type": "stream",
     "text": [
      "O nome da pessoa é Pedra da Silva e sua idade é 30 anos.\n"
     ]
    }
   ],
   "source": [
    "imprimePessoa(idade = 30, nome = 'Pedra da Silva')"
   ]
  },
  {
   "cell_type": "code",
   "execution_count": 50,
   "metadata": {},
   "outputs": [],
   "source": [
    "def calculaHorasTrabalhadas(dias, jornada = 8):\n",
    "    return(dias*jornada)"
   ]
  },
  {
   "cell_type": "code",
   "execution_count": 52,
   "metadata": {},
   "outputs": [
    {
     "data": {
      "text/plain": [
       "80"
      ]
     },
     "execution_count": 52,
     "metadata": {},
     "output_type": "execute_result"
    }
   ],
   "source": [
    "calculaHorasTrabalhadas(10)"
   ]
  },
  {
   "cell_type": "code",
   "execution_count": 53,
   "metadata": {},
   "outputs": [],
   "source": [
    "def imprimeSorteio(texto, *numeros):\n",
    "    print(texto)\n",
    "    for numero in numeros:\n",
    "        print(numero)"
   ]
  },
  {
   "cell_type": "code",
   "execution_count": 54,
   "metadata": {},
   "outputs": [
    {
     "name": "stdout",
     "output_type": "stream",
     "text": [
      "Números sorteados:\n",
      "30\n",
      "42\n",
      "19\n"
     ]
    }
   ],
   "source": [
    "imprimeSorteio('Números sorteados:', 30, 42, 19)"
   ]
  },
  {
   "cell_type": "code",
   "execution_count": 55,
   "metadata": {},
   "outputs": [],
   "source": [
    "def imprimeSorteio(texto, **numeros):\n",
    "    print(texto)\n",
    "    for chave in numeros:\n",
    "        print(f'{chave} = {numeros[chave]}')"
   ]
  },
  {
   "cell_type": "code",
   "execution_count": 56,
   "metadata": {},
   "outputs": [
    {
     "name": "stdout",
     "output_type": "stream",
     "text": [
      "Números sorteados:\n",
      "Primeiro = 30\n",
      "Segundo = 42\n",
      "Terceiro = 19\n"
     ]
    }
   ],
   "source": [
    "imprimeSorteio('Números sorteados:', Primeiro = 30, Segundo = 42, Terceiro = 19)"
   ]
  },
  {
   "cell_type": "code",
   "execution_count": 57,
   "metadata": {},
   "outputs": [],
   "source": [
    "import pandas as pd"
   ]
  },
  {
   "cell_type": "code",
   "execution_count": 58,
   "metadata": {},
   "outputs": [],
   "source": [
    "path = f'../Aulas/INF1514_Material_Graficos/DadosRJ.csv'\n",
    "df = pd.read_csv(path, sep = ';', decimal = ',')"
   ]
  },
  {
   "cell_type": "code",
   "execution_count": 64,
   "metadata": {},
   "outputs": [
    {
     "data": {
      "text/html": [
       "<div>\n",
       "<style scoped>\n",
       "    .dataframe tbody tr th:only-of-type {\n",
       "        vertical-align: middle;\n",
       "    }\n",
       "\n",
       "    .dataframe tbody tr th {\n",
       "        vertical-align: top;\n",
       "    }\n",
       "\n",
       "    .dataframe thead th {\n",
       "        text-align: right;\n",
       "    }\n",
       "</style>\n",
       "<table border=\"1\" class=\"dataframe\">\n",
       "  <thead>\n",
       "    <tr style=\"text-align: right;\">\n",
       "      <th></th>\n",
       "      <th>codigo</th>\n",
       "      <th>populacao</th>\n",
       "      <th>pibpercapta</th>\n",
       "    </tr>\n",
       "  </thead>\n",
       "  <tbody>\n",
       "    <tr>\n",
       "      <th>0</th>\n",
       "      <td>3300100</td>\n",
       "      <td>169511</td>\n",
       "      <td>37403.66</td>\n",
       "    </tr>\n",
       "    <tr>\n",
       "      <th>1</th>\n",
       "      <td>3300159</td>\n",
       "      <td>10213</td>\n",
       "      <td>9181.41</td>\n",
       "    </tr>\n",
       "    <tr>\n",
       "      <th>2</th>\n",
       "      <td>3300209</td>\n",
       "      <td>112008</td>\n",
       "      <td>12334.08</td>\n",
       "    </tr>\n",
       "    <tr>\n",
       "      <th>3</th>\n",
       "      <td>3300225</td>\n",
       "      <td>11423</td>\n",
       "      <td>25489.97</td>\n",
       "    </tr>\n",
       "    <tr>\n",
       "      <th>4</th>\n",
       "      <td>3300233</td>\n",
       "      <td>27560</td>\n",
       "      <td>67880.64</td>\n",
       "    </tr>\n",
       "    <tr>\n",
       "      <th>...</th>\n",
       "      <td>...</td>\n",
       "      <td>...</td>\n",
       "      <td>...</td>\n",
       "    </tr>\n",
       "    <tr>\n",
       "      <th>87</th>\n",
       "      <td>3306008</td>\n",
       "      <td>77432</td>\n",
       "      <td>23686.36</td>\n",
       "    </tr>\n",
       "    <tr>\n",
       "      <th>88</th>\n",
       "      <td>3306107</td>\n",
       "      <td>71843</td>\n",
       "      <td>14223.67</td>\n",
       "    </tr>\n",
       "    <tr>\n",
       "      <th>89</th>\n",
       "      <td>3306156</td>\n",
       "      <td>9475</td>\n",
       "      <td>8651.17</td>\n",
       "    </tr>\n",
       "    <tr>\n",
       "      <th>90</th>\n",
       "      <td>3306206</td>\n",
       "      <td>34410</td>\n",
       "      <td>14258.57</td>\n",
       "    </tr>\n",
       "    <tr>\n",
       "      <th>91</th>\n",
       "      <td>3306305</td>\n",
       "      <td>257803</td>\n",
       "      <td>37429.33</td>\n",
       "    </tr>\n",
       "  </tbody>\n",
       "</table>\n",
       "<p>92 rows × 3 columns</p>\n",
       "</div>"
      ],
      "text/plain": [
       "     codigo  populacao  pibpercapta\n",
       "0   3300100     169511     37403.66\n",
       "1   3300159      10213      9181.41\n",
       "2   3300209     112008     12334.08\n",
       "3   3300225      11423     25489.97\n",
       "4   3300233      27560     67880.64\n",
       "..      ...        ...          ...\n",
       "87  3306008      77432     23686.36\n",
       "88  3306107      71843     14223.67\n",
       "89  3306156       9475      8651.17\n",
       "90  3306206      34410     14258.57\n",
       "91  3306305     257803     37429.33\n",
       "\n",
       "[92 rows x 3 columns]"
      ]
     },
     "execution_count": 64,
     "metadata": {},
     "output_type": "execute_result"
    }
   ],
   "source": [
    "df"
   ]
  },
  {
   "cell_type": "code",
   "execution_count": 61,
   "metadata": {},
   "outputs": [
    {
     "data": {
      "text/html": [
       "<div>\n",
       "<style scoped>\n",
       "    .dataframe tbody tr th:only-of-type {\n",
       "        vertical-align: middle;\n",
       "    }\n",
       "\n",
       "    .dataframe tbody tr th {\n",
       "        vertical-align: top;\n",
       "    }\n",
       "\n",
       "    .dataframe thead th {\n",
       "        text-align: right;\n",
       "    }\n",
       "</style>\n",
       "<table border=\"1\" class=\"dataframe\">\n",
       "  <thead>\n",
       "    <tr style=\"text-align: right;\">\n",
       "      <th></th>\n",
       "      <th>codigo</th>\n",
       "      <th>populacao</th>\n",
       "      <th>pibpercapta</th>\n",
       "    </tr>\n",
       "  </thead>\n",
       "  <tbody>\n",
       "    <tr>\n",
       "      <th>0</th>\n",
       "      <td>3300100</td>\n",
       "      <td>169511</td>\n",
       "      <td>37403.66</td>\n",
       "    </tr>\n",
       "    <tr>\n",
       "      <th>1</th>\n",
       "      <td>3300159</td>\n",
       "      <td>10213</td>\n",
       "      <td>9181.41</td>\n",
       "    </tr>\n",
       "    <tr>\n",
       "      <th>2</th>\n",
       "      <td>3300209</td>\n",
       "      <td>112008</td>\n",
       "      <td>12334.08</td>\n",
       "    </tr>\n",
       "    <tr>\n",
       "      <th>3</th>\n",
       "      <td>3300225</td>\n",
       "      <td>11423</td>\n",
       "      <td>25489.97</td>\n",
       "    </tr>\n",
       "    <tr>\n",
       "      <th>4</th>\n",
       "      <td>3300233</td>\n",
       "      <td>27560</td>\n",
       "      <td>67880.64</td>\n",
       "    </tr>\n",
       "  </tbody>\n",
       "</table>\n",
       "</div>"
      ],
      "text/plain": [
       "    codigo  populacao  pibpercapta\n",
       "0  3300100     169511     37403.66\n",
       "1  3300159      10213      9181.41\n",
       "2  3300209     112008     12334.08\n",
       "3  3300225      11423     25489.97\n",
       "4  3300233      27560     67880.64"
      ]
     },
     "execution_count": 61,
     "metadata": {},
     "output_type": "execute_result"
    }
   ],
   "source": [
    "df.head()"
   ]
  },
  {
   "cell_type": "code",
   "execution_count": 63,
   "metadata": {},
   "outputs": [
    {
     "data": {
      "text/html": [
       "<div>\n",
       "<style scoped>\n",
       "    .dataframe tbody tr th:only-of-type {\n",
       "        vertical-align: middle;\n",
       "    }\n",
       "\n",
       "    .dataframe tbody tr th {\n",
       "        vertical-align: top;\n",
       "    }\n",
       "\n",
       "    .dataframe thead th {\n",
       "        text-align: right;\n",
       "    }\n",
       "</style>\n",
       "<table border=\"1\" class=\"dataframe\">\n",
       "  <thead>\n",
       "    <tr style=\"text-align: right;\">\n",
       "      <th></th>\n",
       "      <th>codigo</th>\n",
       "      <th>populacao</th>\n",
       "      <th>pibpercapta</th>\n",
       "    </tr>\n",
       "  </thead>\n",
       "  <tbody>\n",
       "    <tr>\n",
       "      <th>count</th>\n",
       "      <td>9.200000e+01</td>\n",
       "      <td>9.200000e+01</td>\n",
       "      <td>92.000000</td>\n",
       "    </tr>\n",
       "    <tr>\n",
       "      <th>mean</th>\n",
       "      <td>3.303128e+06</td>\n",
       "      <td>1.738036e+05</td>\n",
       "      <td>27848.926630</td>\n",
       "    </tr>\n",
       "    <tr>\n",
       "      <th>std</th>\n",
       "      <td>1.850124e+03</td>\n",
       "      <td>6.720810e+05</td>\n",
       "      <td>41968.305404</td>\n",
       "    </tr>\n",
       "    <tr>\n",
       "      <th>min</th>\n",
       "      <td>3.300100e+06</td>\n",
       "      <td>5.269000e+03</td>\n",
       "      <td>7264.490000</td>\n",
       "    </tr>\n",
       "    <tr>\n",
       "      <th>25%</th>\n",
       "      <td>3.301578e+06</td>\n",
       "      <td>1.750225e+04</td>\n",
       "      <td>10557.550000</td>\n",
       "    </tr>\n",
       "    <tr>\n",
       "      <th>50%</th>\n",
       "      <td>3.303154e+06</td>\n",
       "      <td>3.487850e+04</td>\n",
       "      <td>14402.010000</td>\n",
       "    </tr>\n",
       "    <tr>\n",
       "      <th>75%</th>\n",
       "      <td>3.304632e+06</td>\n",
       "      <td>1.139482e+05</td>\n",
       "      <td>25608.080000</td>\n",
       "    </tr>\n",
       "    <tr>\n",
       "      <th>max</th>\n",
       "      <td>3.306305e+06</td>\n",
       "      <td>6.320446e+06</td>\n",
       "      <td>312220.710000</td>\n",
       "    </tr>\n",
       "  </tbody>\n",
       "</table>\n",
       "</div>"
      ],
      "text/plain": [
       "             codigo     populacao    pibpercapta\n",
       "count  9.200000e+01  9.200000e+01      92.000000\n",
       "mean   3.303128e+06  1.738036e+05   27848.926630\n",
       "std    1.850124e+03  6.720810e+05   41968.305404\n",
       "min    3.300100e+06  5.269000e+03    7264.490000\n",
       "25%    3.301578e+06  1.750225e+04   10557.550000\n",
       "50%    3.303154e+06  3.487850e+04   14402.010000\n",
       "75%    3.304632e+06  1.139482e+05   25608.080000\n",
       "max    3.306305e+06  6.320446e+06  312220.710000"
      ]
     },
     "execution_count": 63,
     "metadata": {},
     "output_type": "execute_result"
    }
   ],
   "source": [
    "df.describe()"
   ]
  },
  {
   "cell_type": "code",
   "execution_count": 65,
   "metadata": {},
   "outputs": [],
   "source": [
    "media = df.pibpercapta.mean()"
   ]
  },
  {
   "cell_type": "code",
   "execution_count": 68,
   "metadata": {},
   "outputs": [],
   "source": [
    "df_f = df[df.pibpercapta > media]"
   ]
  },
  {
   "cell_type": "code",
   "execution_count": 69,
   "metadata": {},
   "outputs": [
    {
     "data": {
      "text/html": [
       "<div>\n",
       "<style scoped>\n",
       "    .dataframe tbody tr th:only-of-type {\n",
       "        vertical-align: middle;\n",
       "    }\n",
       "\n",
       "    .dataframe tbody tr th {\n",
       "        vertical-align: top;\n",
       "    }\n",
       "\n",
       "    .dataframe thead th {\n",
       "        text-align: right;\n",
       "    }\n",
       "</style>\n",
       "<table border=\"1\" class=\"dataframe\">\n",
       "  <thead>\n",
       "    <tr style=\"text-align: right;\">\n",
       "      <th></th>\n",
       "      <th>codigo</th>\n",
       "      <th>populacao</th>\n",
       "      <th>pibpercapta</th>\n",
       "    </tr>\n",
       "  </thead>\n",
       "  <tbody>\n",
       "    <tr>\n",
       "      <th>0</th>\n",
       "      <td>3300100</td>\n",
       "      <td>169511</td>\n",
       "      <td>37403.66</td>\n",
       "    </tr>\n",
       "    <tr>\n",
       "      <th>4</th>\n",
       "      <td>3300233</td>\n",
       "      <td>27560</td>\n",
       "      <td>67880.64</td>\n",
       "    </tr>\n",
       "    <tr>\n",
       "      <th>11</th>\n",
       "      <td>3300704</td>\n",
       "      <td>186227</td>\n",
       "      <td>49946.19</td>\n",
       "    </tr>\n",
       "    <tr>\n",
       "      <th>14</th>\n",
       "      <td>3300936</td>\n",
       "      <td>13359</td>\n",
       "      <td>45252.21</td>\n",
       "    </tr>\n",
       "    <tr>\n",
       "      <th>16</th>\n",
       "      <td>3301009</td>\n",
       "      <td>463731</td>\n",
       "      <td>83453.36</td>\n",
       "    </tr>\n",
       "    <tr>\n",
       "      <th>17</th>\n",
       "      <td>3301108</td>\n",
       "      <td>19830</td>\n",
       "      <td>36458.06</td>\n",
       "    </tr>\n",
       "    <tr>\n",
       "      <th>20</th>\n",
       "      <td>3301306</td>\n",
       "      <td>35347</td>\n",
       "      <td>58566.13</td>\n",
       "    </tr>\n",
       "    <tr>\n",
       "      <th>29</th>\n",
       "      <td>3302007</td>\n",
       "      <td>109091</td>\n",
       "      <td>42595.30</td>\n",
       "    </tr>\n",
       "    <tr>\n",
       "      <th>33</th>\n",
       "      <td>3302254</td>\n",
       "      <td>28783</td>\n",
       "      <td>51818.33</td>\n",
       "    </tr>\n",
       "    <tr>\n",
       "      <th>36</th>\n",
       "      <td>3302403</td>\n",
       "      <td>206728</td>\n",
       "      <td>65845.25</td>\n",
       "    </tr>\n",
       "    <tr>\n",
       "      <th>39</th>\n",
       "      <td>3302601</td>\n",
       "      <td>36456</td>\n",
       "      <td>48810.75</td>\n",
       "    </tr>\n",
       "    <tr>\n",
       "      <th>56</th>\n",
       "      <td>3304003</td>\n",
       "      <td>26314</td>\n",
       "      <td>39725.35</td>\n",
       "    </tr>\n",
       "    <tr>\n",
       "      <th>58</th>\n",
       "      <td>3304110</td>\n",
       "      <td>16592</td>\n",
       "      <td>312220.71</td>\n",
       "    </tr>\n",
       "    <tr>\n",
       "      <th>61</th>\n",
       "      <td>3304151</td>\n",
       "      <td>20242</td>\n",
       "      <td>187271.41</td>\n",
       "    </tr>\n",
       "    <tr>\n",
       "      <th>62</th>\n",
       "      <td>3304201</td>\n",
       "      <td>119769</td>\n",
       "      <td>48228.71</td>\n",
       "    </tr>\n",
       "    <tr>\n",
       "      <th>65</th>\n",
       "      <td>3304508</td>\n",
       "      <td>8561</td>\n",
       "      <td>34143.62</td>\n",
       "    </tr>\n",
       "    <tr>\n",
       "      <th>66</th>\n",
       "      <td>3304524</td>\n",
       "      <td>105676</td>\n",
       "      <td>84702.45</td>\n",
       "    </tr>\n",
       "    <tr>\n",
       "      <th>67</th>\n",
       "      <td>3304557</td>\n",
       "      <td>6320446</td>\n",
       "      <td>32919.88</td>\n",
       "    </tr>\n",
       "    <tr>\n",
       "      <th>73</th>\n",
       "      <td>3305000</td>\n",
       "      <td>32747</td>\n",
       "      <td>186154.63</td>\n",
       "    </tr>\n",
       "    <tr>\n",
       "      <th>76</th>\n",
       "      <td>3305158</td>\n",
       "      <td>20251</td>\n",
       "      <td>29479.85</td>\n",
       "    </tr>\n",
       "    <tr>\n",
       "      <th>91</th>\n",
       "      <td>3306305</td>\n",
       "      <td>257803</td>\n",
       "      <td>37429.33</td>\n",
       "    </tr>\n",
       "  </tbody>\n",
       "</table>\n",
       "</div>"
      ],
      "text/plain": [
       "     codigo  populacao  pibpercapta\n",
       "0   3300100     169511     37403.66\n",
       "4   3300233      27560     67880.64\n",
       "11  3300704     186227     49946.19\n",
       "14  3300936      13359     45252.21\n",
       "16  3301009     463731     83453.36\n",
       "17  3301108      19830     36458.06\n",
       "20  3301306      35347     58566.13\n",
       "29  3302007     109091     42595.30\n",
       "33  3302254      28783     51818.33\n",
       "36  3302403     206728     65845.25\n",
       "39  3302601      36456     48810.75\n",
       "56  3304003      26314     39725.35\n",
       "58  3304110      16592    312220.71\n",
       "61  3304151      20242    187271.41\n",
       "62  3304201     119769     48228.71\n",
       "65  3304508       8561     34143.62\n",
       "66  3304524     105676     84702.45\n",
       "67  3304557    6320446     32919.88\n",
       "73  3305000      32747    186154.63\n",
       "76  3305158      20251     29479.85\n",
       "91  3306305     257803     37429.33"
      ]
     },
     "execution_count": 69,
     "metadata": {},
     "output_type": "execute_result"
    }
   ],
   "source": [
    "df_f"
   ]
  },
  {
   "cell_type": "code",
   "execution_count": 70,
   "metadata": {},
   "outputs": [],
   "source": [
    "path = '../Aulas/INF1514_Material_Graficos/FiltroDadosRJ.csv'\n",
    "df_f.to_csv(path, sep = ';', decimal = ',', index = False)"
   ]
  },
  {
   "cell_type": "code",
   "execution_count": 71,
   "metadata": {},
   "outputs": [],
   "source": [
    "import os"
   ]
  },
  {
   "cell_type": "code",
   "execution_count": 76,
   "metadata": {},
   "outputs": [],
   "source": [
    "os.chdir('../Aulas/INF1514_Material_Graficos/')"
   ]
  },
  {
   "cell_type": "code",
   "execution_count": 77,
   "metadata": {},
   "outputs": [],
   "source": [
    "df = pd.read_csv('DadosRJ.csv', sep = ';', decimal = ',')"
   ]
  },
  {
   "cell_type": "code",
   "execution_count": 80,
   "metadata": {},
   "outputs": [],
   "source": [
    "df_s = df[['codigo', 'populacao']]"
   ]
  },
  {
   "cell_type": "code",
   "execution_count": 81,
   "metadata": {},
   "outputs": [
    {
     "data": {
      "text/html": [
       "<div>\n",
       "<style scoped>\n",
       "    .dataframe tbody tr th:only-of-type {\n",
       "        vertical-align: middle;\n",
       "    }\n",
       "\n",
       "    .dataframe tbody tr th {\n",
       "        vertical-align: top;\n",
       "    }\n",
       "\n",
       "    .dataframe thead th {\n",
       "        text-align: right;\n",
       "    }\n",
       "</style>\n",
       "<table border=\"1\" class=\"dataframe\">\n",
       "  <thead>\n",
       "    <tr style=\"text-align: right;\">\n",
       "      <th></th>\n",
       "      <th>codigo</th>\n",
       "      <th>populacao</th>\n",
       "    </tr>\n",
       "  </thead>\n",
       "  <tbody>\n",
       "    <tr>\n",
       "      <th>0</th>\n",
       "      <td>3300100</td>\n",
       "      <td>169511</td>\n",
       "    </tr>\n",
       "    <tr>\n",
       "      <th>1</th>\n",
       "      <td>3300159</td>\n",
       "      <td>10213</td>\n",
       "    </tr>\n",
       "    <tr>\n",
       "      <th>2</th>\n",
       "      <td>3300209</td>\n",
       "      <td>112008</td>\n",
       "    </tr>\n",
       "    <tr>\n",
       "      <th>3</th>\n",
       "      <td>3300225</td>\n",
       "      <td>11423</td>\n",
       "    </tr>\n",
       "    <tr>\n",
       "      <th>4</th>\n",
       "      <td>3300233</td>\n",
       "      <td>27560</td>\n",
       "    </tr>\n",
       "  </tbody>\n",
       "</table>\n",
       "</div>"
      ],
      "text/plain": [
       "    codigo  populacao\n",
       "0  3300100     169511\n",
       "1  3300159      10213\n",
       "2  3300209     112008\n",
       "3  3300225      11423\n",
       "4  3300233      27560"
      ]
     },
     "execution_count": 81,
     "metadata": {},
     "output_type": "execute_result"
    }
   ],
   "source": [
    "df_s.head()"
   ]
  },
  {
   "cell_type": "code",
   "execution_count": 82,
   "metadata": {},
   "outputs": [
    {
     "data": {
      "text/html": [
       "<div>\n",
       "<style scoped>\n",
       "    .dataframe tbody tr th:only-of-type {\n",
       "        vertical-align: middle;\n",
       "    }\n",
       "\n",
       "    .dataframe tbody tr th {\n",
       "        vertical-align: top;\n",
       "    }\n",
       "\n",
       "    .dataframe thead th {\n",
       "        text-align: right;\n",
       "    }\n",
       "</style>\n",
       "<table border=\"1\" class=\"dataframe\">\n",
       "  <thead>\n",
       "    <tr style=\"text-align: right;\">\n",
       "      <th></th>\n",
       "      <th>codigo</th>\n",
       "      <th>populacao</th>\n",
       "    </tr>\n",
       "  </thead>\n",
       "  <tbody>\n",
       "    <tr>\n",
       "      <th>count</th>\n",
       "      <td>9.200000e+01</td>\n",
       "      <td>9.200000e+01</td>\n",
       "    </tr>\n",
       "    <tr>\n",
       "      <th>mean</th>\n",
       "      <td>3.303128e+06</td>\n",
       "      <td>1.738036e+05</td>\n",
       "    </tr>\n",
       "    <tr>\n",
       "      <th>std</th>\n",
       "      <td>1.850124e+03</td>\n",
       "      <td>6.720810e+05</td>\n",
       "    </tr>\n",
       "    <tr>\n",
       "      <th>min</th>\n",
       "      <td>3.300100e+06</td>\n",
       "      <td>5.269000e+03</td>\n",
       "    </tr>\n",
       "    <tr>\n",
       "      <th>25%</th>\n",
       "      <td>3.301578e+06</td>\n",
       "      <td>1.750225e+04</td>\n",
       "    </tr>\n",
       "    <tr>\n",
       "      <th>50%</th>\n",
       "      <td>3.303154e+06</td>\n",
       "      <td>3.487850e+04</td>\n",
       "    </tr>\n",
       "    <tr>\n",
       "      <th>75%</th>\n",
       "      <td>3.304632e+06</td>\n",
       "      <td>1.139482e+05</td>\n",
       "    </tr>\n",
       "    <tr>\n",
       "      <th>max</th>\n",
       "      <td>3.306305e+06</td>\n",
       "      <td>6.320446e+06</td>\n",
       "    </tr>\n",
       "  </tbody>\n",
       "</table>\n",
       "</div>"
      ],
      "text/plain": [
       "             codigo     populacao\n",
       "count  9.200000e+01  9.200000e+01\n",
       "mean   3.303128e+06  1.738036e+05\n",
       "std    1.850124e+03  6.720810e+05\n",
       "min    3.300100e+06  5.269000e+03\n",
       "25%    3.301578e+06  1.750225e+04\n",
       "50%    3.303154e+06  3.487850e+04\n",
       "75%    3.304632e+06  1.139482e+05\n",
       "max    3.306305e+06  6.320446e+06"
      ]
     },
     "execution_count": 82,
     "metadata": {},
     "output_type": "execute_result"
    }
   ],
   "source": [
    "df_s.describe()"
   ]
  },
  {
   "cell_type": "code",
   "execution_count": 83,
   "metadata": {},
   "outputs": [],
   "source": [
    "import numpy as np\n",
    "import matplotlib.pyplot as plt\n",
    "import seaborn as sns"
   ]
  },
  {
   "cell_type": "code",
   "execution_count": 84,
   "metadata": {},
   "outputs": [],
   "source": [
    "sns.set(rc={'figure.figsize':(12,8)})"
   ]
  },
  {
   "cell_type": "code",
   "execution_count": 85,
   "metadata": {},
   "outputs": [],
   "source": [
    "x = np.random.normal(0, 10, 500)"
   ]
  },
  {
   "cell_type": "code",
   "execution_count": 88,
   "metadata": {},
   "outputs": [
    {
     "data": {
      "image/png": "[encoded data removed]",
      "text/plain": [
       "<Figure size 864x576 with 1 Axes>"
      ]
     },
     "metadata": {},
     "output_type": "display_data"
    }
   ],
   "source": [
    "plt.title('Histograma')\n",
    "plt.hist(x, bins = 50)\n",
    "plt.show()"
   ]
  },
  {
   "cell_type": "code",
   "execution_count": 89,
   "metadata": {},
   "outputs": [],
   "source": [
    "import sqlite3"
   ]
  },
  {
   "cell_type": "code",
   "execution_count": 96,
   "metadata": {},
   "outputs": [],
   "source": [
    "os.chdir('../../Scripts')"
   ]
  },
  {
   "cell_type": "code",
   "execution_count": 97,
   "metadata": {},
   "outputs": [
    {
     "data": {
      "text/plain": [
       "'d:\\\\Economia\\\\PUC_RIO\\\\Monitoria\\\\INF1514 Introdução à Análise de Dados\\\\Scripts'"
      ]
     },
     "execution_count": 97,
     "metadata": {},
     "output_type": "execute_result"
    }
   ],
   "source": [
    "os.getcwd()"
   ]
  },
  {
   "cell_type": "code",
   "execution_count": 98,
   "metadata": {},
   "outputs": [],
   "source": [
    "con = sqlite3.connect('../Aulas/INF1514_Material_7/Financeiro.db')"
   ]
  },
  {
   "cell_type": "code",
   "execution_count": 99,
   "metadata": {},
   "outputs": [],
   "source": [
    "nota = pd.read_sql_query(\n",
    "    'SELECT * FROM NotaFiscal;',\n",
    "    con\n",
    ")"
   ]
  },
  {
   "cell_type": "code",
   "execution_count": 100,
   "metadata": {},
   "outputs": [],
   "source": [
    "con.close()"
   ]
  },
  {
   "cell_type": "code",
   "execution_count": 101,
   "metadata": {},
   "outputs": [
    {
     "data": {
      "text/html": [
       "<div>\n",
       "<style scoped>\n",
       "    .dataframe tbody tr th:only-of-type {\n",
       "        vertical-align: middle;\n",
       "    }\n",
       "\n",
       "    .dataframe tbody tr th {\n",
       "        vertical-align: top;\n",
       "    }\n",
       "\n",
       "    .dataframe thead th {\n",
       "        text-align: right;\n",
       "    }\n",
       "</style>\n",
       "<table border=\"1\" class=\"dataframe\">\n",
       "  <thead>\n",
       "    <tr style=\"text-align: right;\">\n",
       "      <th></th>\n",
       "      <th>NumeroNota</th>\n",
       "      <th>Serie</th>\n",
       "      <th>CodigoCliente</th>\n",
       "      <th>DataEmissao</th>\n",
       "      <th>Valor</th>\n",
       "      <th>Imposto</th>\n",
       "      <th>DataCancelamento</th>\n",
       "    </tr>\n",
       "  </thead>\n",
       "  <tbody>\n",
       "    <tr>\n",
       "      <th>0</th>\n",
       "      <td>138092</td>\n",
       "      <td>A1</td>\n",
       "      <td>123.0</td>\n",
       "      <td>2019-05-01</td>\n",
       "      <td>3450</td>\n",
       "      <td>345</td>\n",
       "      <td>None</td>\n",
       "    </tr>\n",
       "    <tr>\n",
       "      <th>1</th>\n",
       "      <td>236781</td>\n",
       "      <td>B1</td>\n",
       "      <td>201.0</td>\n",
       "      <td>2019-10-01</td>\n",
       "      <td>3000</td>\n",
       "      <td>200</td>\n",
       "      <td>2019-20-01</td>\n",
       "    </tr>\n",
       "    <tr>\n",
       "      <th>2</th>\n",
       "      <td>387209</td>\n",
       "      <td>C2</td>\n",
       "      <td>426.0</td>\n",
       "      <td>2019-03-05</td>\n",
       "      <td>3800</td>\n",
       "      <td>190</td>\n",
       "      <td>None</td>\n",
       "    </tr>\n",
       "    <tr>\n",
       "      <th>3</th>\n",
       "      <td>674240</td>\n",
       "      <td>B1</td>\n",
       "      <td>201.0</td>\n",
       "      <td>2019-06-07</td>\n",
       "      <td>6480</td>\n",
       "      <td>432</td>\n",
       "      <td>None</td>\n",
       "    </tr>\n",
       "    <tr>\n",
       "      <th>4</th>\n",
       "      <td>764901</td>\n",
       "      <td>C1</td>\n",
       "      <td>NaN</td>\n",
       "      <td>2019-10-07</td>\n",
       "      <td>8540</td>\n",
       "      <td>427</td>\n",
       "      <td>None</td>\n",
       "    </tr>\n",
       "  </tbody>\n",
       "</table>\n",
       "</div>"
      ],
      "text/plain": [
       "  NumeroNota Serie  CodigoCliente DataEmissao  Valor  Imposto DataCancelamento\n",
       "0     138092    A1          123.0  2019-05-01   3450      345             None\n",
       "1     236781    B1          201.0  2019-10-01   3000      200       2019-20-01\n",
       "2     387209    C2          426.0  2019-03-05   3800      190             None\n",
       "3     674240    B1          201.0  2019-06-07   6480      432             None\n",
       "4     764901    C1            NaN  2019-10-07   8540      427             None"
      ]
     },
     "execution_count": 101,
     "metadata": {},
     "output_type": "execute_result"
    }
   ],
   "source": [
    "nota.head()"
   ]
  },
  {
   "cell_type": "code",
   "execution_count": 105,
   "metadata": {},
   "outputs": [],
   "source": [
    "texto = 'BBAS3F'"
   ]
  },
  {
   "cell_type": "code",
   "execution_count": 106,
   "metadata": {},
   "outputs": [
    {
     "name": "stdout",
     "output_type": "stream",
     "text": [
      "False\n"
     ]
    }
   ],
   "source": [
    "print(texto.endswith('G'))"
   ]
  },
  {
   "cell_type": "code",
   "execution_count": 107,
   "metadata": {},
   "outputs": [
    {
     "name": "stdout",
     "output_type": "stream",
     "text": [
      "True\n"
     ]
    }
   ],
   "source": [
    "print(texto.endswith('F'))"
   ]
  },
  {
   "cell_type": "code",
   "execution_count": 109,
   "metadata": {},
   "outputs": [
    {
     "name": "stdout",
     "output_type": "stream",
     "text": [
      "B\n",
      "A\n",
      "F\n",
      "B\n"
     ]
    }
   ],
   "source": [
    "print(texto[0])\n",
    "print(texto[2])\n",
    "print(texto[-1])\n",
    "print(texto[-6])"
   ]
  },
  {
   "cell_type": "code",
   "execution_count": 110,
   "metadata": {},
   "outputs": [
    {
     "name": "stdout",
     "output_type": "stream",
     "text": [
      "BB\n",
      "AS3F\n",
      "BBAS3F\n"
     ]
    }
   ],
   "source": [
    "print(texto[:2])\n",
    "print(texto[2:])\n",
    "print(texto[:2] + texto[2:])"
   ]
  },
  {
   "cell_type": "code",
   "execution_count": 111,
   "metadata": {},
   "outputs": [],
   "source": [
    "x = [1, 7, 10, 5, 20]"
   ]
  },
  {
   "cell_type": "code",
   "execution_count": 112,
   "metadata": {},
   "outputs": [
    {
     "name": "stdout",
     "output_type": "stream",
     "text": [
      "[1, 7, 10, 5, 20]\n"
     ]
    }
   ],
   "source": [
    "print(x)"
   ]
  },
  {
   "cell_type": "code",
   "execution_count": 113,
   "metadata": {},
   "outputs": [
    {
     "name": "stdout",
     "output_type": "stream",
     "text": [
      "[5, 20]\n"
     ]
    }
   ],
   "source": [
    "print(x[-2:])"
   ]
  },
  {
   "cell_type": "code",
   "execution_count": 114,
   "metadata": {},
   "outputs": [
    {
     "name": "stdout",
     "output_type": "stream",
     "text": [
      "[1, 7, 10, 5, 20, 12, 30, 25]\n"
     ]
    }
   ],
   "source": [
    "x = x + [12, 30, 25]\n",
    "print(x)"
   ]
  },
  {
   "cell_type": "code",
   "execution_count": 115,
   "metadata": {},
   "outputs": [
    {
     "name": "stdout",
     "output_type": "stream",
     "text": [
      "[1, 5, 7, 10, 12, 20, 25, 30]\n"
     ]
    }
   ],
   "source": [
    "print(sorted(x))"
   ]
  },
  {
   "cell_type": "code",
   "execution_count": 117,
   "metadata": {},
   "outputs": [
    {
     "name": "stdout",
     "output_type": "stream",
     "text": [
      "[1, 4, 10, 5, 20, 12, 30, 25]\n"
     ]
    }
   ],
   "source": [
    "x[1] = 4\n",
    "print(x)"
   ]
  },
  {
   "cell_type": "code",
   "execution_count": 118,
   "metadata": {},
   "outputs": [
    {
     "name": "stdout",
     "output_type": "stream",
     "text": [
      "[1, 4, 10, 20, 12, 30, 25]\n"
     ]
    }
   ],
   "source": [
    "del x[3]\n",
    "print(x)"
   ]
  },
  {
   "cell_type": "code",
   "execution_count": 124,
   "metadata": {},
   "outputs": [],
   "source": [
    "m = [[1,2,3],\n",
    "     [4,5,6]]"
   ]
  },
  {
   "cell_type": "code",
   "execution_count": 125,
   "metadata": {},
   "outputs": [
    {
     "name": "stdout",
     "output_type": "stream",
     "text": [
      "1\n",
      "6\n"
     ]
    }
   ],
   "source": [
    "print(m[0][0])\n",
    "print(m[1][2])"
   ]
  },
  {
   "cell_type": "code",
   "execution_count": 126,
   "metadata": {},
   "outputs": [],
   "source": [
    "m = np.array(m)"
   ]
  },
  {
   "cell_type": "code",
   "execution_count": 127,
   "metadata": {},
   "outputs": [
    {
     "name": "stdout",
     "output_type": "stream",
     "text": [
      "1\n",
      "6\n"
     ]
    }
   ],
   "source": [
    "print(m[0, 0])\n",
    "print(m[1, 2])"
   ]
  },
  {
   "attachments": {},
   "cell_type": "markdown",
   "metadata": {},
   "source": [
    "### Material 9"
   ]
  },
  {
   "cell_type": "code",
   "execution_count": 128,
   "metadata": {},
   "outputs": [],
   "source": [
    "s = 'Uma frase!'"
   ]
  },
  {
   "cell_type": "code",
   "execution_count": 132,
   "metadata": {},
   "outputs": [
    {
     "name": "stdout",
     "output_type": "stream",
     "text": [
      "U\n",
      "Um\n",
      "Uma\n",
      "Uma \n",
      "Uma f\n",
      "Uma fr\n",
      "Uma fra\n",
      "Uma fras\n",
      "Uma frase\n",
      "Uma frase!\n"
     ]
    }
   ],
   "source": [
    "for i in range(len(s)):\n",
    "    print(s[0:(i+1)])"
   ]
  },
  {
   "cell_type": "code",
   "execution_count": 133,
   "metadata": {},
   "outputs": [
    {
     "data": {
      "text/plain": [
       "'Olámundo!'"
      ]
     },
     "execution_count": 133,
     "metadata": {},
     "output_type": "execute_result"
    }
   ],
   "source": [
    "'Olá' + 'mundo!'"
   ]
  },
  {
   "cell_type": "code",
   "execution_count": 134,
   "metadata": {},
   "outputs": [
    {
     "data": {
      "text/plain": [
       "'OláOláOlá'"
      ]
     },
     "execution_count": 134,
     "metadata": {},
     "output_type": "execute_result"
    }
   ],
   "source": [
    "'Olá'*3"
   ]
  },
  {
   "cell_type": "code",
   "execution_count": 135,
   "metadata": {},
   "outputs": [
    {
     "data": {
      "text/plain": [
       "10"
      ]
     },
     "execution_count": 135,
     "metadata": {},
     "output_type": "execute_result"
    }
   ],
   "source": [
    "len('Olá mundo!')"
   ]
  },
  {
   "cell_type": "code",
   "execution_count": 136,
   "metadata": {},
   "outputs": [
    {
     "data": {
      "text/plain": [
       "'10'"
      ]
     },
     "execution_count": 136,
     "metadata": {},
     "output_type": "execute_result"
    }
   ],
   "source": [
    "str(10)"
   ]
  },
  {
   "cell_type": "code",
   "execution_count": 137,
   "metadata": {},
   "outputs": [
    {
     "data": {
      "text/plain": [
       "True"
      ]
     },
     "execution_count": 137,
     "metadata": {},
     "output_type": "execute_result"
    }
   ],
   "source": [
    "'Olá' in 'Olá mundo!'"
   ]
  },
  {
   "cell_type": "code",
   "execution_count": 138,
   "metadata": {},
   "outputs": [
    {
     "data": {
      "text/plain": [
       "False"
      ]
     },
     "execution_count": 138,
     "metadata": {},
     "output_type": "execute_result"
    }
   ],
   "source": [
    "'Oi' in 'Olá mundo!'"
   ]
  },
  {
   "cell_type": "code",
   "execution_count": 139,
   "metadata": {},
   "outputs": [
    {
     "data": {
      "text/plain": [
       "False"
      ]
     },
     "execution_count": 139,
     "metadata": {},
     "output_type": "execute_result"
    }
   ],
   "source": [
    "'Olá' not in 'Olá mundo!'"
   ]
  },
  {
   "cell_type": "code",
   "execution_count": 140,
   "metadata": {},
   "outputs": [
    {
     "data": {
      "text/plain": [
       "True"
      ]
     },
     "execution_count": 140,
     "metadata": {},
     "output_type": "execute_result"
    }
   ],
   "source": [
    "'Oi' not in 'Olá mundo!'"
   ]
  },
  {
   "cell_type": "code",
   "execution_count": 141,
   "metadata": {},
   "outputs": [
    {
     "name": "stdout",
     "output_type": "stream",
     "text": [
      "Hoje é dia 10, de Julho de 2023.\n"
     ]
    }
   ],
   "source": [
    "dia = 10\n",
    "ano = 2023\n",
    "print(f'Hoje é dia {dia}, de Julho de {ano}.')"
   ]
  },
  {
   "cell_type": "code",
   "execution_count": 143,
   "metadata": {},
   "outputs": [
    {
     "name": "stdout",
     "output_type": "stream",
     "text": [
      "Hoje é dia 10 de Julho de 2023 .\n",
      "Hoje é dia10de Julho de2023.\n"
     ]
    }
   ],
   "source": [
    "print('Hoje é dia', dia, 'de Julho de', ano, '.')\n",
    "print('Hoje é dia', dia, 'de Julho de', ano, '.', sep = '')"
   ]
  },
  {
   "cell_type": "code",
   "execution_count": 145,
   "metadata": {},
   "outputs": [
    {
     "name": "stdout",
     "output_type": "stream",
     "text": [
      "O valor da ação PETR4 é 26.680000.\n",
      "O valor da ação PETR4 é 26.7.\n"
     ]
    }
   ],
   "source": [
    "acao = 'PETR4'\n",
    "valor = 26.68\n",
    "print('O valor da ação %s é %f.' % (acao, valor))\n",
    "print('O valor da ação %s é %.1f.' % (acao, valor))"
   ]
  },
  {
   "cell_type": "code",
   "execution_count": 147,
   "metadata": {},
   "outputs": [
    {
     "name": "stdout",
     "output_type": "stream",
     "text": [
      "[345]\n",
      "[  345]\n",
      "[345  ]\n",
      "[00345]\n"
     ]
    }
   ],
   "source": [
    "valor = 345\n",
    "print('[%d]' % (valor))\n",
    "print('[%5d]' % (valor))\n",
    "print('[%-5d]' % (valor))\n",
    "print('[%05d]' % (valor))"
   ]
  },
  {
   "cell_type": "code",
   "execution_count": 148,
   "metadata": {},
   "outputs": [],
   "source": [
    "valor = input('Digite o valor do produto:')"
   ]
  },
  {
   "cell_type": "code",
   "execution_count": 149,
   "metadata": {},
   "outputs": [
    {
     "data": {
      "text/plain": [
       "'10'"
      ]
     },
     "execution_count": 149,
     "metadata": {},
     "output_type": "execute_result"
    }
   ],
   "source": [
    "valor"
   ]
  },
  {
   "attachments": {},
   "cell_type": "markdown",
   "metadata": {},
   "source": [
    "#### Exercício 1\n",
    "\n",
    "Construa um programa em Python para obter o resultado da divisão de dois números quaisquer fornecidos pelo usuário."
   ]
  },
  {
   "cell_type": "code",
   "execution_count": 151,
   "metadata": {},
   "outputs": [
    {
     "name": "stdout",
     "output_type": "stream",
     "text": [
      "0.6666666666666666\n"
     ]
    }
   ],
   "source": [
    "numerador = float(input('Insira o numerador:'))\n",
    "denominador = float(input('Insira o denominador:'))\n",
    "if (denominador != 0):\n",
    "    print(numerador/denominador)\n",
    "else:\n",
    "    print('Divisão indefinida')"
   ]
  },
  {
   "attachments": {},
   "cell_type": "markdown",
   "metadata": {},
   "source": [
    "#### Exercício 2\n",
    "\n",
    "Construa uma função chamada calculaDivisao em Python que recebe como parâmetros dois números quaisquer fornecidos pelo usuário e retorna o resultado da divisão desses números. Caso a divisão não seja possível, a função deverá apresentar na tela a mensagem “Divisão não efetuada.”"
   ]
  },
  {
   "cell_type": "code",
   "execution_count": 152,
   "metadata": {},
   "outputs": [],
   "source": [
    "def calculaDivisao(numerador, denominador):\n",
    "    if (denominador != 0):\n",
    "        resultado = numerador/denominador\n",
    "    else:\n",
    "        resultado = 'Divisão não efetuada.'\n",
    "    \n",
    "    return(resultado)"
   ]
  },
  {
   "cell_type": "code",
   "execution_count": 153,
   "metadata": {},
   "outputs": [
    {
     "data": {
      "text/plain": [
       "0.6666666666666666"
      ]
     },
     "execution_count": 153,
     "metadata": {},
     "output_type": "execute_result"
    }
   ],
   "source": [
    "calculaDivisao(10,15)"
   ]
  },
  {
   "cell_type": "code",
   "execution_count": 154,
   "metadata": {},
   "outputs": [
    {
     "data": {
      "text/plain": [
       "'Divisão não efetuada.'"
      ]
     },
     "execution_count": 154,
     "metadata": {},
     "output_type": "execute_result"
    }
   ],
   "source": [
    "calculaDivisao(9, 0)"
   ]
  },
  {
   "cell_type": "code",
   "execution_count": 155,
   "metadata": {},
   "outputs": [],
   "source": [
    "indice = [3.99, -2.45, 1.23, 2.34, 0.89, 3.57, -1.07]\n",
    "acao = ['AZUL4', 'AMER3', 'BBAS3', 'BBDC4']\n",
    "variacao = [['ABEV3', 1.23], ['CRFB3', 2.03], ['BRKM5', 0.35]]\n",
    "carteira = ['Pedro Sanchez', 900.00, [['ABEV3', 25], ['AZUL4', 75]]]"
   ]
  },
  {
   "cell_type": "code",
   "execution_count": 157,
   "metadata": {},
   "outputs": [
    {
     "name": "stdout",
     "output_type": "stream",
     "text": [
      "[3.99, -2.45, 1.23, 2.34, 0.89, 3.57, -1.07]\n"
     ]
    }
   ],
   "source": [
    "print (indice) # lista inteira"
   ]
  },
  {
   "cell_type": "code",
   "execution_count": 158,
   "metadata": {},
   "outputs": [
    {
     "name": "stdout",
     "output_type": "stream",
     "text": [
      "AZUL4\n"
     ]
    }
   ],
   "source": [
    "print (acao[0]) # primeiro item da lista"
   ]
  },
  {
   "cell_type": "code",
   "execution_count": 159,
   "metadata": {},
   "outputs": [
    {
     "name": "stdout",
     "output_type": "stream",
     "text": [
      "['CRFB3', 2.03]\n"
     ]
    }
   ],
   "source": [
    "print (variacao[1]) # segundo item da lista"
   ]
  },
  {
   "cell_type": "code",
   "execution_count": 161,
   "metadata": {},
   "outputs": [
    {
     "name": "stdout",
     "output_type": "stream",
     "text": [
      "CRFB3\n"
     ]
    }
   ],
   "source": [
    "print (variacao[1][0]) # na segunda sublista o primeiro item"
   ]
  },
  {
   "cell_type": "code",
   "execution_count": 162,
   "metadata": {},
   "outputs": [
    {
     "name": "stdout",
     "output_type": "stream",
     "text": [
      "[['ABEV3', 25], ['AZUL4', 75]]\n"
     ]
    }
   ],
   "source": [
    "print (carteira[2]) # terceiro item"
   ]
  },
  {
   "cell_type": "code",
   "execution_count": 163,
   "metadata": {},
   "outputs": [
    {
     "name": "stdout",
     "output_type": "stream",
     "text": [
      "['AZUL4', 75]\n"
     ]
    }
   ],
   "source": [
    "print (carteira[2][1]) # no terceiro item a segunda sublista"
   ]
  },
  {
   "cell_type": "code",
   "execution_count": 164,
   "metadata": {},
   "outputs": [
    {
     "name": "stdout",
     "output_type": "stream",
     "text": [
      "75\n"
     ]
    }
   ],
   "source": [
    "print (carteira[2][1][1]) # no terceiro item, na segunda sublista, o segundo item"
   ]
  },
  {
   "cell_type": "code",
   "execution_count": 165,
   "metadata": {},
   "outputs": [
    {
     "name": "stdout",
     "output_type": "stream",
     "text": [
      "AZUL4\n",
      "AMER3\n",
      "BBAS3\n",
      "BBDC4\n"
     ]
    }
   ],
   "source": [
    "for elemento in acao:\n",
    "    print(elemento)"
   ]
  },
  {
   "cell_type": "code",
   "execution_count": 166,
   "metadata": {},
   "outputs": [
    {
     "name": "stdout",
     "output_type": "stream",
     "text": [
      "AZUL4\n",
      "AMER3\n",
      "BBAS3\n",
      "BBDC4\n"
     ]
    }
   ],
   "source": [
    "for i in range(len(acao)):\n",
    "    print(acao[i])"
   ]
  },
  {
   "attachments": {},
   "cell_type": "markdown",
   "metadata": {},
   "source": [
    "#### Exemplo 1\n",
    "\n",
    "Elabore uma função chamada intersecao que receba duas listas X e Y contendo valores numéricos e retorne a interseção entre elas."
   ]
  },
  {
   "cell_type": "code",
   "execution_count": 167,
   "metadata": {},
   "outputs": [],
   "source": [
    "def intersecao(x, y):\n",
    "    intersection = []\n",
    "    for elemento in x:\n",
    "        if(elemento in y):\n",
    "            intersection.append(elemento)\n",
    "    \n",
    "    return(intersection)"
   ]
  },
  {
   "cell_type": "code",
   "execution_count": 168,
   "metadata": {},
   "outputs": [],
   "source": [
    "x = [1.2, 2, 3.9, 4, 5]\n",
    "y = [1, 3.9, 5, 4.2, 6, 15]"
   ]
  },
  {
   "cell_type": "code",
   "execution_count": 169,
   "metadata": {},
   "outputs": [
    {
     "data": {
      "text/plain": [
       "[3.9, 5]"
      ]
     },
     "execution_count": 169,
     "metadata": {},
     "output_type": "execute_result"
    }
   ],
   "source": [
    "intersecao(x, y)"
   ]
  },
  {
   "attachments": {},
   "cell_type": "markdown",
   "metadata": {},
   "source": [
    "#### Exercício 3\n",
    "\n",
    "Sabendo que a função abs retorna o valor absoluto da diferença entre dois números, elabore uma função que receba uma lista contendo apenas números e retorne o valor mais próximo da média dos elementos."
   ]
  },
  {
   "cell_type": "code",
   "execution_count": 170,
   "metadata": {},
   "outputs": [],
   "source": [
    "def valorMaisProximo(lista):\n",
    "    media = np.mean(lista)\n",
    "    maisProximo = lista[0]\n",
    "    maisProximoDiferenca = abs(maisProximo - media)\n",
    "    for elemento in lista[1:]:\n",
    "        diferenca = abs(elemento - media)\n",
    "        if (diferenca < maisProximoDiferenca):\n",
    "            maisProximo = elemento\n",
    "            maisProximoDiferenca = diferenca\n",
    "\n",
    "    return(maisProximo)"
   ]
  },
  {
   "cell_type": "code",
   "execution_count": 171,
   "metadata": {},
   "outputs": [],
   "source": [
    "lista = [-1, 2, 5, 3.5]"
   ]
  },
  {
   "cell_type": "code",
   "execution_count": 172,
   "metadata": {},
   "outputs": [
    {
     "data": {
      "text/plain": [
       "2"
      ]
     },
     "execution_count": 172,
     "metadata": {},
     "output_type": "execute_result"
    }
   ],
   "source": [
    "valorMaisProximo(lista)"
   ]
  },
  {
   "cell_type": "code",
   "execution_count": 1,
   "metadata": {},
   "outputs": [],
   "source": [
    "\"\"\"\n",
    "Tupla que armazena o código do cliente dentro de uma seguradora e uma\n",
    "lista contendo número de chassi e ano de compra de seus veículos.\n",
    "\"\"\"\n",
    "t = (768, [['9BGRD08X04G117974', 2017], ['9BHTG97Z73J236723', 2018]])"
   ]
  },
  {
   "cell_type": "code",
   "execution_count": 2,
   "metadata": {},
   "outputs": [
    {
     "name": "stdout",
     "output_type": "stream",
     "text": [
      "768\n"
     ]
    }
   ],
   "source": [
    "print(t[0]) # Primeiro elemento."
   ]
  },
  {
   "cell_type": "code",
   "execution_count": 3,
   "metadata": {},
   "outputs": [
    {
     "name": "stdout",
     "output_type": "stream",
     "text": [
      "(768, [['9BGRD08X04G117974', 2017], ['9BHTG97Z73J236723', 2018]])\n"
     ]
    }
   ],
   "source": [
    "print(t) # Tupla inteira."
   ]
  },
  {
   "cell_type": "code",
   "execution_count": 5,
   "metadata": {},
   "outputs": [
    {
     "name": "stdout",
     "output_type": "stream",
     "text": [
      "(768, [['9BGRD08X04G117974', 2016], ['9BHTG97Z73J236723', 2018]])\n"
     ]
    }
   ],
   "source": [
    "t[1][0][1] = 2016 # Alterando 2017 para 2016 (o elemento 1 de t é uma lista).\n",
    "print(t)"
   ]
  },
  {
   "cell_type": "code",
   "execution_count": 7,
   "metadata": {},
   "outputs": [
    {
     "ename": "TypeError",
     "evalue": "'tuple' object does not support item assignment",
     "output_type": "error",
     "traceback": [
      "\u001b[1;31m---------------------------------------------------------------------------\u001b[0m",
      "\u001b[1;31mTypeError\u001b[0m                                 Traceback (most recent call last)",
      "\u001b[1;32md:\\Economia\\PUC_RIO\\Monitoria\\INF1514 Introdução à Análise de Dados\\Scripts\\monitoria_8.ipynb Célula 120\u001b[0m in \u001b[0;36m<module>\u001b[1;34m\u001b[0m\n\u001b[1;32m----> <a href='vscode-notebook-cell:/d%3A/Economia/PUC_RIO/Monitoria/INF1514%20Introdu%C3%A7%C3%A3o%20%C3%A0%20An%C3%A1lise%20de%20Dados/Scripts/monitoria_8.ipynb#Y231sZmlsZQ%3D%3D?line=0'>1</a>\u001b[0m t[\u001b[39m0\u001b[39m] \u001b[39m=\u001b[39m \u001b[39m123\u001b[39m\n",
      "\u001b[1;31mTypeError\u001b[0m: 'tuple' object does not support item assignment"
     ]
    }
   ],
   "source": [
    "t[0] = 123 # Tentando mudar o código do cliente."
   ]
  },
  {
   "cell_type": "code",
   "execution_count": 8,
   "metadata": {},
   "outputs": [],
   "source": [
    "codigo, listaVeiculo = t"
   ]
  },
  {
   "cell_type": "code",
   "execution_count": 9,
   "metadata": {},
   "outputs": [
    {
     "name": "stdout",
     "output_type": "stream",
     "text": [
      "768\n",
      "[['9BGRD08X04G117974', 2016], ['9BHTG97Z73J236723', 2018]]\n"
     ]
    }
   ],
   "source": [
    "print(codigo)\n",
    "print(listaVeiculo)"
   ]
  },
  {
   "cell_type": "code",
   "execution_count": 10,
   "metadata": {},
   "outputs": [
    {
     "name": "stdout",
     "output_type": "stream",
     "text": [
      "768\n",
      "[['9BGRD08X04G117974', 2016], ['9BHTG97Z73J236723', 2018]]\n"
     ]
    }
   ],
   "source": [
    "for elemento in t:\n",
    "    print(elemento)"
   ]
  },
  {
   "cell_type": "code",
   "execution_count": 11,
   "metadata": {},
   "outputs": [
    {
     "name": "stdout",
     "output_type": "stream",
     "text": [
      "768\n",
      "[['9BGRD08X04G117974', 2016], ['9BHTG97Z73J236723', 2018]]\n"
     ]
    }
   ],
   "source": [
    "for i in range(len(t)):\n",
    "    print(t[i])"
   ]
  },
  {
   "cell_type": "code",
   "execution_count": 12,
   "metadata": {},
   "outputs": [],
   "source": [
    "A = {'Dolar', 'Euro', 'Real', 'Libra', 'Real', 'Dolar', 'Peso'}\n",
    "B = {'Euro', 'Libra', 'Franco'}"
   ]
  },
  {
   "cell_type": "code",
   "execution_count": 13,
   "metadata": {},
   "outputs": [
    {
     "name": "stdout",
     "output_type": "stream",
     "text": [
      "{'Libra', 'Peso', 'Dolar', 'Euro', 'Real'}\n"
     ]
    }
   ],
   "source": [
    "print(A) # Sem repetição."
   ]
  },
  {
   "cell_type": "code",
   "execution_count": 14,
   "metadata": {},
   "outputs": [
    {
     "name": "stdout",
     "output_type": "stream",
     "text": [
      "True\n",
      "False\n"
     ]
    }
   ],
   "source": [
    "print('Dolar' in A)\n",
    "print('Rupia' in A)"
   ]
  },
  {
   "cell_type": "code",
   "execution_count": 15,
   "metadata": {},
   "outputs": [
    {
     "name": "stdout",
     "output_type": "stream",
     "text": [
      "{'Peso', 'Dolar', 'Real'}\n"
     ]
    }
   ],
   "source": [
    "print(A - B) # Moeda em A mas não em B."
   ]
  },
  {
   "cell_type": "code",
   "execution_count": 16,
   "metadata": {},
   "outputs": [
    {
     "name": "stdout",
     "output_type": "stream",
     "text": [
      "{'Libra', 'Peso', 'Dolar', 'Euro', 'Franco', 'Real'}\n"
     ]
    }
   ],
   "source": [
    "print(A | B) # Moeda em A ou em B ou em ambos."
   ]
  },
  {
   "cell_type": "code",
   "execution_count": 17,
   "metadata": {},
   "outputs": [
    {
     "name": "stdout",
     "output_type": "stream",
     "text": [
      "{'Libra', 'Euro'}\n"
     ]
    }
   ],
   "source": [
    "print(A & B) # Moeda em A e em B."
   ]
  },
  {
   "cell_type": "code",
   "execution_count": 18,
   "metadata": {},
   "outputs": [
    {
     "name": "stdout",
     "output_type": "stream",
     "text": [
      "{'Peso', 'Dolar', 'Franco', 'Real'}\n"
     ]
    }
   ],
   "source": [
    "print(A ^ B) # Moeda em A ou em B mas não em ambos."
   ]
  },
  {
   "cell_type": "code",
   "execution_count": 19,
   "metadata": {},
   "outputs": [],
   "source": [
    "# Coleção de clientes representados por código (chave) e nome (valor).\n",
    "cliente = {345:'Pedro Santos', 675:'Caio Freitas', 879:'Carmem Rios'}"
   ]
  },
  {
   "cell_type": "code",
   "execution_count": 20,
   "metadata": {},
   "outputs": [
    {
     "name": "stdout",
     "output_type": "stream",
     "text": [
      "{345: 'Pedro Santos', 675: 'Caio Freitas', 879: 'Carmem Rios'}\n"
     ]
    }
   ],
   "source": [
    "print(cliente) # Todos os clientes"
   ]
  },
  {
   "cell_type": "code",
   "execution_count": 21,
   "metadata": {},
   "outputs": [
    {
     "name": "stdout",
     "output_type": "stream",
     "text": [
      "Caio Freitas\n"
     ]
    }
   ],
   "source": [
    "print(cliente[675]) # Nome do cliente de código 675."
   ]
  },
  {
   "cell_type": "code",
   "execution_count": 22,
   "metadata": {},
   "outputs": [
    {
     "name": "stdout",
     "output_type": "stream",
     "text": [
      "{345: 'Pedro Santos', 675: 'Caio Freitas', 879: 'Carmem Rios', 649: 'Carlos Lopes'}\n"
     ]
    }
   ],
   "source": [
    "cliente[649] = 'Carlos Lopes' # Incluindo um cliente.\n",
    "print(cliente)"
   ]
  },
  {
   "cell_type": "code",
   "execution_count": 23,
   "metadata": {},
   "outputs": [
    {
     "ename": "KeyError",
     "evalue": "123",
     "output_type": "error",
     "traceback": [
      "\u001b[1;31m---------------------------------------------------------------------------\u001b[0m",
      "\u001b[1;31mKeyError\u001b[0m                                  Traceback (most recent call last)",
      "\u001b[1;32md:\\Economia\\PUC_RIO\\Monitoria\\INF1514 Introdução à Análise de Dados\\Scripts\\monitoria_8.ipynb Célula 136\u001b[0m in \u001b[0;36m<module>\u001b[1;34m\u001b[0m\n\u001b[1;32m----> <a href='vscode-notebook-cell:/d%3A/Economia/PUC_RIO/Monitoria/INF1514%20Introdu%C3%A7%C3%A3o%20%C3%A0%20An%C3%A1lise%20de%20Dados/Scripts/monitoria_8.ipynb#Y253sZmlsZQ%3D%3D?line=0'>1</a>\u001b[0m \u001b[39mprint\u001b[39m(cliente[\u001b[39m123\u001b[39;49m])\n",
      "\u001b[1;31mKeyError\u001b[0m: 123"
     ]
    }
   ],
   "source": [
    "print(cliente[123]) # Retorna erro de execução pois 123 não existe como chave."
   ]
  },
  {
   "cell_type": "code",
   "execution_count": 32,
   "metadata": {},
   "outputs": [
    {
     "data": {
      "text/plain": [
       "{'RJ': 'Rio de Janeiro', 'SP': 'São Paulo'}"
      ]
     },
     "execution_count": 32,
     "metadata": {},
     "output_type": "execute_result"
    }
   ],
   "source": [
    "listaEstado = [('RJ', 'Rio de Janeiro'), ('SP', 'São Paulo')]\n",
    "estado = dict(listaEstado)\n",
    "estado"
   ]
  },
  {
   "cell_type": "code",
   "execution_count": 33,
   "metadata": {},
   "outputs": [
    {
     "name": "stdout",
     "output_type": "stream",
     "text": [
      "Rio de Janeiro\n",
      "None\n"
     ]
    }
   ],
   "source": [
    "print(estado.get('RJ')) # Retorna 'Rio de Janeiro'\n",
    "print(estado.get('ES')) # Retorna None, pois 'ES' não existe como chave."
   ]
  },
  {
   "cell_type": "code",
   "execution_count": 34,
   "metadata": {},
   "outputs": [
    {
     "name": "stdout",
     "output_type": "stream",
     "text": [
      "São Paulo\n"
     ]
    }
   ],
   "source": [
    "valor = estado.pop('SP')\n",
    "print(valor)"
   ]
  },
  {
   "cell_type": "code",
   "execution_count": 36,
   "metadata": {},
   "outputs": [
    {
     "data": {
      "text/plain": [
       "{'RJ': 'Rio de Janeiro'}"
      ]
     },
     "execution_count": 36,
     "metadata": {},
     "output_type": "execute_result"
    }
   ],
   "source": [
    "estado"
   ]
  },
  {
   "cell_type": "code",
   "execution_count": 37,
   "metadata": {},
   "outputs": [
    {
     "name": "stdout",
     "output_type": "stream",
     "text": [
      "True\n",
      "True\n"
     ]
    }
   ],
   "source": [
    "print('RJ' in estado)\n",
    "print('PE' not in estado)"
   ]
  },
  {
   "cell_type": "code",
   "execution_count": 38,
   "metadata": {},
   "outputs": [
    {
     "name": "stdout",
     "output_type": "stream",
     "text": [
      "RJ\n",
      "Rio de Janeiro\n"
     ]
    }
   ],
   "source": [
    "for chave in estado:\n",
    "    print(chave)\n",
    "    print(estado[chave])"
   ]
  },
  {
   "cell_type": "code",
   "execution_count": 39,
   "metadata": {},
   "outputs": [
    {
     "name": "stdout",
     "output_type": "stream",
     "text": [
      "RJ\n",
      "Rio de Janeiro\n"
     ]
    }
   ],
   "source": [
    "for chave, valor in estado.items():\n",
    "    print(chave)\n",
    "    print(valor)"
   ]
  },
  {
   "attachments": {
    "image.png": {
     "image/png": "[encoded data removed]"
    }
   },
   "cell_type": "markdown",
   "metadata": {},
   "source": [
    "#### Exemplo 2\n",
    "\n",
    "Escreva a função chamada recuperarMensagem, que recebe uma lista com números inteiros correspondentes a uma mensagem secreta e retornar a mensagem de acordo com a tabela de codificação abaixo:\n",
    "\n",
    "![image.png](attachment:image.png)"
   ]
  },
  {
   "cell_type": "code",
   "execution_count": 40,
   "metadata": {},
   "outputs": [],
   "source": [
    "def recuperarMensagem(mensagemCodificada):\n",
    "    tabelaDecodificacao = ' abcdefghijklmnopqrstuvwxyz'\n",
    "    mensagemDecodificada = ''\n",
    "\n",
    "    for number in mensagemCodificada:\n",
    "        mensagemDecodificada += tabelaDecodificacao[number]\n",
    "    \n",
    "    return(mensagemDecodificada)"
   ]
  },
  {
   "cell_type": "code",
   "execution_count": 42,
   "metadata": {},
   "outputs": [],
   "source": [
    "mensagemSecreta = [20, 5, 14, 8, 1, 0, 21, 13, 1, 0, 2, 15, 1, 0, 20, 1, 18, 4, 5]"
   ]
  },
  {
   "cell_type": "code",
   "execution_count": 43,
   "metadata": {},
   "outputs": [
    {
     "data": {
      "text/plain": [
       "'tenha uma boa tarde'"
      ]
     },
     "execution_count": 43,
     "metadata": {},
     "output_type": "execute_result"
    }
   ],
   "source": [
    "recuperarMensagem(mensagemSecreta)"
   ]
  }
 ],
 "metadata": {
  "kernelspec": {
   "display_name": "Python 3",
   "language": "python",
   "name": "python3"
  },
  "language_info": {
   "codemirror_mode": {
    "name": "ipython",
    "version": 3
   },
   "file_extension": ".py",
   "mimetype": "text/x-python",
   "name": "python",
   "nbconvert_exporter": "python",
   "pygments_lexer": "ipython3",
   "version": "3.10.2"
  },
  "orig_nbformat": 4
 },
 "nbformat": 4,
 "nbformat_minor": 2
}
